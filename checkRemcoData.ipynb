{
 "cells": [
  {
   "cell_type": "code",
   "execution_count": 36,
   "metadata": {
    "collapsed": true
   },
   "outputs": [],
   "source": [
    "from astropy import units as u\n",
    "from astropy.coordinates import SkyCoord\n",
    "import numpy as np\n",
    "from astropy.table import Table as QTable\n",
    "import random\n",
    "from astropy.io import ascii\n",
    "from astropy.io import fits\n",
    "import os"
   ]
  },
  {
   "cell_type": "code",
   "execution_count": 2,
   "metadata": {
    "collapsed": true
   },
   "outputs": [],
   "source": [
    "galaxies = QTable.read('remcoCatalog.dat', format='ascii')"
   ]
  },
  {
   "cell_type": "code",
   "execution_count": 3,
   "metadata": {
    "collapsed": true
   },
   "outputs": [],
   "source": [
    "galaxies.remove_columns(['id','x','y','radialdistanceperr200', '(g-r)'])"
   ]
  },
  {
   "cell_type": "code",
   "execution_count": null,
   "metadata": {
    "collapsed": true
   },
   "outputs": [],
   "source": []
  },
  {
   "cell_type": "code",
   "execution_count": 4,
   "metadata": {
    "collapsed": true
   },
   "outputs": [],
   "source": [
    "A1650_acs_center_ra = 194.770487576 * u.deg\n",
    "A1650_acs_center_dec = -1.76259491842 * u.deg\n",
    "A1650_wfc_center_ra = 194.698401337  * u.deg\n",
    "A1650_wfc_center_dec = -1.69197504616 * u.deg\n",
    "\n",
    "A2495_acs_center_ra = 342.59468161 * u.deg\n",
    "A2495_acs_center_dec = 10.9131110599 * u.deg\n",
    "A2495_wfc_center_ra = 342.651637479 * u.deg\n",
    "A2495_wfc_center_dec = 10.8291414187 * u.deg\n",
    "\n",
    "A85_acs_center_ra = 10.5240709932 * u.deg\n",
    "A85_acs_center_dec = -9.45514863512 * u.deg\n",
    "A85_wfc_center_ra = 10.4948958701 * u.deg\n",
    "A85_wfc_center_dec = -9.35845007767 * u.deg\n",
    "\n",
    "A1650_acs = SkyCoord(ra = (A1650_acs_center_ra), dec = (A1650_acs_center_dec))\n",
    "A1650_wfc = SkyCoord(ra = (A1650_wfc_center_ra), dec = (A1650_wfc_center_dec))\n",
    "A2495_acs = SkyCoord(ra = (A2495_acs_center_ra), dec = (A2495_acs_center_dec))\n",
    "A2495_wfc = SkyCoord(ra = (A2495_wfc_center_ra), dec = (A2495_wfc_center_dec))\n",
    "A85_acs = SkyCoord(ra = (A85_acs_center_ra), dec = (A85_acs_center_dec))\n",
    "A85_wfc = SkyCoord(ra = (A85_wfc_center_ra), dec = (A85_wfc_center_dec))"
   ]
  },
  {
   "cell_type": "code",
   "execution_count": 5,
   "metadata": {
    "collapsed": true
   },
   "outputs": [],
   "source": [
    "mask1650 = np.where(galaxies['cluster'] == 'A1650')\n",
    "mask2495 = np.where(galaxies['cluster'] == 'A2495')\n",
    "mask85 = np.where(galaxies['cluster'] == 'A85')\n",
    "\n",
    "new_1650_table = galaxies[mask1650]\n",
    "new_1650_table['ra_diff_acs'] = random.random() * u.deg\n",
    "new_1650_table['dec_diff_acs'] = random.random() * u.deg\n",
    "new_1650_table['ra_diff_wfc'] = random.random() * u.deg\n",
    "new_1650_table['dec_diff_wfc'] = random.random() * u.deg\n",
    "new_1650_table['dist_acs'] = random.random()\n",
    "new_1650_table['dist_wfc'] = random.random()\n",
    "new_1650_table['sep_1650_acs'] = random.random()\n",
    "new_1650_table['sep_1650_wfc'] = random.random()\n",
    "\n",
    "\n",
    "new_2495_table = galaxies[mask2495]\n",
    "new_2495_table['ra_diff_acs'] = random.random() * u.deg\n",
    "new_2495_table['dec_diff_acs'] = random.random() * u.deg\n",
    "new_2495_table['ra_diff_wfc'] = random.random() * u.deg\n",
    "new_2495_table['dec_diff_wfc'] = random.random() * u.deg\n",
    "new_2495_table['dist_acs'] = random.random()\n",
    "new_2495_table['dist_wfc'] = random.random()\n",
    "new_2495_table['sep_2495_acs'] = random.random()\n",
    "new_2495_table['sep_2495_wfc'] = random.random()\n",
    "\n",
    "new_85_table = galaxies[mask85]\n",
    "new_85_table['ra_diff_acs'] = random.random() * u.deg\n",
    "new_85_table['dec_diff_acs'] = random.random() * u.deg\n",
    "new_85_table['ra_diff_wfc'] = random.random() * u.deg\n",
    "new_85_table['dec_diff_wfc'] = random.random() * u.deg\n",
    "new_85_table['dist_acs'] = random.random()\n",
    "new_85_table['dist_wfc'] = random.random()\n",
    "new_85_table['sep_85_acs'] = random.random()\n",
    "new_85_table['sep_85_wfc'] = random.random()\n"
   ]
  },
  {
   "cell_type": "code",
   "execution_count": 6,
   "metadata": {
    "collapsed": true
   },
   "outputs": [],
   "source": [
    "for i in range(len(new_1650_table)):\n",
    "    ra = (new_1650_table[i]['ra'] * u.deg)\n",
    "    dec = (new_1650_table[i]['dec'] * u.deg)\n",
    "    new_1650_table[i]['ra_diff_acs'] = np.abs((ra) - (A1650_acs_center_ra)) / u.deg\n",
    "    new_1650_table[i]['dec_diff_acs'] = np.abs((dec) - (A1650_acs_center_dec)) / u.deg\n",
    "    new_1650_table[i]['ra_diff_wfc'] = np.abs((ra) - (A1650_wfc_center_ra)) / u.deg\n",
    "    new_1650_table[i]['dec_diff_wfc'] = np.abs((dec) - (A1650_wfc_center_dec)) / u.deg\n",
    "    new_1650_table[i]['dist_acs'] = np.sqrt(\n",
    "        (new_1650_table[i]['ra_diff_acs'] ** 2) + (new_1650_table[i]['dec_diff_acs'] ** 2))\n",
    "    new_1650_table[i]['dist_wfc'] = np.sqrt(\n",
    "        (new_1650_table[i]['ra_diff_wfc'] ** 2) + (new_1650_table[i]['dec_diff_wfc'] ** 2))\n",
    "\n",
    "#     c = SkyCoord(\n",
    "#         ra = new_1650_table[i]['ra'] * u.degree, \n",
    "#         dec = new_1650_table[i]['dec'] * u.degree)\n",
    "#     new_1650_table[i]['sep_1650_acs'] = A1650_acs.separation(c).arcsecond\n",
    "#     new_1650_table[i]['sep_1650_wfc'] = A1650_wfc.separation(c).arcsecond   "
   ]
  },
  {
   "cell_type": "code",
   "execution_count": 7,
   "metadata": {
    "collapsed": true
   },
   "outputs": [],
   "source": [
    "for i in range(len(new_2495_table)):\n",
    "    ra = (new_2495_table[i]['ra'] * u.deg)\n",
    "    dec = (new_2495_table[i]['dec'] * u.deg)\n",
    "    new_2495_table[i]['ra_diff_acs'] = np.abs((ra) - (A2495_acs_center_ra)) / u.deg\n",
    "    new_2495_table[i]['dec_diff_acs'] = np.abs((dec) - (A2495_acs_center_dec)) / u.deg\n",
    "    new_2495_table[i]['ra_diff_wfc'] = np.abs((ra) - (A2495_wfc_center_ra)) / u.deg\n",
    "    new_2495_table[i]['dec_diff_wfc'] = np.abs((dec) - (A2495_wfc_center_dec)) / u.deg\n",
    "    new_2495_table[i]['dist_acs'] = np.sqrt(\n",
    "        (new_2495_table[i]['ra_diff_acs'] ** 2) + (new_2495_table[i]['dec_diff_acs'] ** 2))\n",
    "    new_2495_table[i]['dist_wfc'] = np.sqrt(\n",
    "        (new_2495_table[i]['ra_diff_wfc'] ** 2) + (new_2495_table[i]['dec_diff_wfc'] ** 2))\n",
    "    \n",
    "#     c = SkyCoord(\n",
    "#         ra = new_2495_table[i]['ra'] * u.degree, \n",
    "#         dec = new_2495_table[i]['dec'] * u.degree)\n",
    "#     new_2495_table[i]['sep_2495_acs'] = A2495_acs.separation(c).arcsecond\n",
    "#     new_2495_table[i]['sep_2495_wfc'] = A2495_wfc.separation(c).arcsecond"
   ]
  },
  {
   "cell_type": "code",
   "execution_count": 8,
   "metadata": {
    "collapsed": true
   },
   "outputs": [],
   "source": [
    "for i in range(len(new_85_table)):\n",
    "    ra = (new_85_table[i]['ra'] * u.deg)\n",
    "    dec = (new_85_table[i]['dec'] * u.deg)\n",
    "    new_85_table[i]['ra_diff_acs'] = np.abs((ra) - (A85_acs_center_ra)) / u.deg\n",
    "    new_85_table[i]['dec_diff_acs'] = np.abs((dec) - (A85_acs_center_dec)) / u.deg\n",
    "    new_85_table[i]['ra_diff_wfc'] = np.abs((ra) - (A85_wfc_center_ra)) / u.deg\n",
    "    new_85_table[i]['dec_diff_wfc'] = np.abs((dec) - (A85_wfc_center_dec)) / u.deg\n",
    "    new_85_table[i]['dist_acs'] = np.sqrt(\n",
    "        (new_85_table[i]['ra_diff_acs'] ** 2) + (new_85_table[i]['dec_diff_acs'] ** 2))\n",
    "    new_85_table[i]['dist_wfc'] = np.sqrt(\n",
    "        (new_85_table[i]['ra_diff_wfc'] ** 2) + (new_85_table[i]['dec_diff_wfc'] ** 2))\n",
    "    \n",
    "#     c = SkyCoord(\n",
    "#         ra = new_85_table[i]['ra'] * u.degree, \n",
    "#         dec = new_85_table[i]['dec'] * u.degree)\n",
    "#     new_85_table[i]['sep_85_acs'] = A85_acs.separation(c).arcsecond\n",
    "#     new_85_table[i]['sep_85_wfc'] = A85_wfc.separation(c).arcsecond"
   ]
  },
  {
   "cell_type": "code",
   "execution_count": null,
   "metadata": {
    "collapsed": true
   },
   "outputs": [],
   "source": []
  },
  {
   "cell_type": "code",
   "execution_count": 9,
   "metadata": {
    "collapsed": true
   },
   "outputs": [],
   "source": [
    "# Define a square using the min and max coordinates\n",
    "\n",
    "udg_1650_acs = new_1650_table[np.where(\n",
    "    (new_1650_table['ra'] > 194.74014431) & \n",
    "    (new_1650_table['ra'] < 194.800818139) & \n",
    "    (new_1650_table['dec'] > -1.79278103061) & \n",
    "    (new_1650_table['dec'] < -1.73242247657)\n",
    "    )]\n",
    "udg_1650_wfc = new_1650_table[np.where(\n",
    "    (new_1650_table['ra'] > 194.664866996) & \n",
    "    (new_1650_table['ra'] < 194.73195125) & \n",
    "    (new_1650_table['dec'] > -1.72548004843) & \n",
    "    (new_1650_table['dec'] < -1.65846977202)\n",
    ")]\n",
    "\n",
    "\n",
    "udg_2495_acs = new_2495_table[np.where(\n",
    "    (new_2495_table['ra'] > 342.559395171) & \n",
    "    (new_2495_table['ra'] < 342.629990153) & \n",
    "    (new_2495_table['dec'] > 10.8785886371) & \n",
    "    (new_2495_table['dec'] < 10.9476426333)\n",
    "    )]\n",
    "udg_2495_wfc = new_2495_table[np.where(\n",
    "    (new_2495_table['ra'] > 342.618486652) & \n",
    "    (new_2495_table['ra'] < 342.684771171) & \n",
    "    (new_2495_table['dec'] > 10.7962769928) & \n",
    "    (new_2495_table['dec'] < 10.8620086903)\n",
    ")]\n",
    "\n",
    "\n",
    "udg_85_acs = new_85_table[np.where(\n",
    "    (new_85_table['ra'] > 10.4832642324) & \n",
    "    (new_85_table['ra'] < 10.5648558186) & \n",
    "    (new_85_table['dec'] > -9.49533252904) & \n",
    "    (new_85_table['dec'] < -9.41497003895)\n",
    "    )]\n",
    "udg_85_wfc = new_85_table[np.where(\n",
    "    (new_85_table['ra'] > 10.4652137198) & \n",
    "    (new_85_table['ra'] < 10.5245947327) & \n",
    "    (new_85_table['dec'] > -9.3883516209) & \n",
    "    (new_85_table['dec'] < -9.32855518003)\n",
    ")]"
   ]
  },
  {
   "cell_type": "code",
   "execution_count": 10,
   "metadata": {
    "collapsed": true
   },
   "outputs": [],
   "source": [
    "# Just use the distance from the center to the objects coordinates.\n",
    "\n",
    "# udg_1650_acs = new_1650_table[np.where((new_1650_table['dist_acs'] < 0.04))]\n",
    "# udg_1650_wfc = new_1650_table[np.where((new_1650_table['dist_wfc'] < 0.04))]\n",
    "# udg_2495_acs = new_2495_table[np.where((new_2495_table['dist_acs'] < 0.04))]\n",
    "# udg_2495_wfc = new_2495_table[np.where((new_2495_table['dist_wfc'] < 0.04))]\n",
    "# udg_85_acs = new_85_table[np.where((new_85_table['dist_acs'] < 0.04))]\n",
    "# udg_85_wfc = new_85_table[np.where((new_85_table['dist_wfc'] < 0.04))]"
   ]
  },
  {
   "cell_type": "code",
   "execution_count": 11,
   "metadata": {},
   "outputs": [
    {
     "data": {
      "text/html": [
       "&lt;Table length=8&gt;\n",
       "<table id=\"table140249345388432\" class=\"table-striped table-bordered table-condensed\">\n",
       "<thead><tr><th>ra</th><th>dec</th></tr></thead>\n",
       "<thead><tr><th>float64</th><th>float64</th></tr></thead>\n",
       "<tr><td>194.75125</td><td>-1.78944</td></tr>\n",
       "<tr><td>194.7454</td><td>-1.786</td></tr>\n",
       "<tr><td>194.75274</td><td>-1.7846</td></tr>\n",
       "<tr><td>194.79284</td><td>-1.78476</td></tr>\n",
       "<tr><td>194.75497</td><td>-1.75661</td></tr>\n",
       "<tr><td>194.76073</td><td>-1.75858</td></tr>\n",
       "<tr><td>194.76781</td><td>-1.74841</td></tr>\n",
       "<tr><td>194.7712</td><td>-1.74793</td></tr>\n",
       "</table>"
      ],
      "text/plain": [
       "<Table length=8>\n",
       "    ra      dec   \n",
       " float64  float64 \n",
       "--------- --------\n",
       "194.75125 -1.78944\n",
       " 194.7454   -1.786\n",
       "194.75274  -1.7846\n",
       "194.79284 -1.78476\n",
       "194.75497 -1.75661\n",
       "194.76073 -1.75858\n",
       "194.76781 -1.74841\n",
       " 194.7712 -1.74793"
      ]
     },
     "execution_count": 11,
     "metadata": {},
     "output_type": "execute_result"
    }
   ],
   "source": [
    "udg_1650_acs['ra','dec']"
   ]
  },
  {
   "cell_type": "code",
   "execution_count": 12,
   "metadata": {},
   "outputs": [
    {
     "data": {
      "text/html": [
       "&lt;Table length=8&gt;\n",
       "<table id=\"table140249345385232\" class=\"table-striped table-bordered table-condensed\">\n",
       "<thead><tr><th>ra</th><th>dec</th></tr></thead>\n",
       "<thead><tr><th>float64</th><th>float64</th></tr></thead>\n",
       "<tr><td>194.67823</td><td>-1.71992</td></tr>\n",
       "<tr><td>194.67522</td><td>-1.70592</td></tr>\n",
       "<tr><td>194.71864</td><td>-1.70007</td></tr>\n",
       "<tr><td>194.66897</td><td>-1.69999</td></tr>\n",
       "<tr><td>194.66781</td><td>-1.68481</td></tr>\n",
       "<tr><td>194.68137</td><td>-1.68333</td></tr>\n",
       "<tr><td>194.69501</td><td>-1.67607</td></tr>\n",
       "<tr><td>194.68118</td><td>-1.65867</td></tr>\n",
       "</table>"
      ],
      "text/plain": [
       "<Table length=8>\n",
       "    ra      dec   \n",
       " float64  float64 \n",
       "--------- --------\n",
       "194.67823 -1.71992\n",
       "194.67522 -1.70592\n",
       "194.71864 -1.70007\n",
       "194.66897 -1.69999\n",
       "194.66781 -1.68481\n",
       "194.68137 -1.68333\n",
       "194.69501 -1.67607\n",
       "194.68118 -1.65867"
      ]
     },
     "execution_count": 12,
     "metadata": {},
     "output_type": "execute_result"
    }
   ],
   "source": [
    "udg_1650_wfc['ra','dec']"
   ]
  },
  {
   "cell_type": "code",
   "execution_count": 13,
   "metadata": {},
   "outputs": [
    {
     "data": {
      "text/html": [
       "&lt;Table length=7&gt;\n",
       "<table id=\"table140249442938192\" class=\"table-striped table-bordered table-condensed\">\n",
       "<thead><tr><th>ra</th><th>dec</th></tr></thead>\n",
       "<thead><tr><th>float64</th><th>float64</th></tr></thead>\n",
       "<tr><td>342.56269</td><td>10.88277</td></tr>\n",
       "<tr><td>342.59996</td><td>10.88422</td></tr>\n",
       "<tr><td>342.60014</td><td>10.89367</td></tr>\n",
       "<tr><td>342.62017</td><td>10.90486</td></tr>\n",
       "<tr><td>342.60109</td><td>10.91667</td></tr>\n",
       "<tr><td>342.61844</td><td>10.94127</td></tr>\n",
       "<tr><td>342.55984</td><td>10.94236</td></tr>\n",
       "</table>"
      ],
      "text/plain": [
       "<Table length=7>\n",
       "    ra      dec   \n",
       " float64  float64 \n",
       "--------- --------\n",
       "342.56269 10.88277\n",
       "342.59996 10.88422\n",
       "342.60014 10.89367\n",
       "342.62017 10.90486\n",
       "342.60109 10.91667\n",
       "342.61844 10.94127\n",
       "342.55984 10.94236"
      ]
     },
     "execution_count": 13,
     "metadata": {},
     "output_type": "execute_result"
    }
   ],
   "source": [
    "udg_2495_acs['ra','dec']"
   ]
  },
  {
   "cell_type": "code",
   "execution_count": 14,
   "metadata": {},
   "outputs": [
    {
     "data": {
      "text/html": [
       "&lt;Table length=9&gt;\n",
       "<table id=\"table140249442938448\" class=\"table-striped table-bordered table-condensed\">\n",
       "<thead><tr><th>ra</th><th>dec</th></tr></thead>\n",
       "<thead><tr><th>float64</th><th>float64</th></tr></thead>\n",
       "<tr><td>342.64598</td><td>10.80604</td></tr>\n",
       "<tr><td>342.65897</td><td>10.81434</td></tr>\n",
       "<tr><td>342.683</td><td>10.81482</td></tr>\n",
       "<tr><td>342.67657</td><td>10.81538</td></tr>\n",
       "<tr><td>342.63804</td><td>10.83876</td></tr>\n",
       "<tr><td>342.67363</td><td>10.84135</td></tr>\n",
       "<tr><td>342.64455</td><td>10.84005</td></tr>\n",
       "<tr><td>342.6337</td><td>10.85011</td></tr>\n",
       "<tr><td>342.6743</td><td>10.85379</td></tr>\n",
       "</table>"
      ],
      "text/plain": [
       "<Table length=9>\n",
       "    ra      dec   \n",
       " float64  float64 \n",
       "--------- --------\n",
       "342.64598 10.80604\n",
       "342.65897 10.81434\n",
       "  342.683 10.81482\n",
       "342.67657 10.81538\n",
       "342.63804 10.83876\n",
       "342.67363 10.84135\n",
       "342.64455 10.84005\n",
       " 342.6337 10.85011\n",
       " 342.6743 10.85379"
      ]
     },
     "execution_count": 14,
     "metadata": {},
     "output_type": "execute_result"
    }
   ],
   "source": [
    "udg_2495_wfc['ra','dec']"
   ]
  },
  {
   "cell_type": "code",
   "execution_count": 15,
   "metadata": {},
   "outputs": [
    {
     "data": {
      "text/html": [
       "&lt;Table length=6&gt;\n",
       "<table id=\"table140249343061776\" class=\"table-striped table-bordered table-condensed\">\n",
       "<thead><tr><th>ra</th><th>dec</th></tr></thead>\n",
       "<thead><tr><th>float64</th><th>float64</th></tr></thead>\n",
       "<tr><td>10.56411</td><td>-9.49236</td></tr>\n",
       "<tr><td>10.50446</td><td>-9.48084</td></tr>\n",
       "<tr><td>10.50687</td><td>-9.48935</td></tr>\n",
       "<tr><td>10.55038</td><td>-9.46491</td></tr>\n",
       "<tr><td>10.51212</td><td>-9.42728</td></tr>\n",
       "<tr><td>10.48792</td><td>-9.41588</td></tr>\n",
       "</table>"
      ],
      "text/plain": [
       "<Table length=6>\n",
       "   ra      dec   \n",
       "float64  float64 \n",
       "-------- --------\n",
       "10.56411 -9.49236\n",
       "10.50446 -9.48084\n",
       "10.50687 -9.48935\n",
       "10.55038 -9.46491\n",
       "10.51212 -9.42728\n",
       "10.48792 -9.41588"
      ]
     },
     "execution_count": 15,
     "metadata": {},
     "output_type": "execute_result"
    }
   ],
   "source": [
    "udg_85_acs['ra','dec']"
   ]
  },
  {
   "cell_type": "code",
   "execution_count": 16,
   "metadata": {},
   "outputs": [
    {
     "data": {
      "text/html": [
       "&lt;Table length=5&gt;\n",
       "<table id=\"table140249345387408\" class=\"table-striped table-bordered table-condensed\">\n",
       "<thead><tr><th>ra</th><th>dec</th></tr></thead>\n",
       "<thead><tr><th>float64</th><th>float64</th></tr></thead>\n",
       "<tr><td>10.52314</td><td>-9.38231</td></tr>\n",
       "<tr><td>10.47783</td><td>-9.37302</td></tr>\n",
       "<tr><td>10.52295</td><td>-9.37255</td></tr>\n",
       "<tr><td>10.48933</td><td>-9.3574</td></tr>\n",
       "<tr><td>10.50134</td><td>-9.33888</td></tr>\n",
       "</table>"
      ],
      "text/plain": [
       "<Table length=5>\n",
       "   ra      dec   \n",
       "float64  float64 \n",
       "-------- --------\n",
       "10.52314 -9.38231\n",
       "10.47783 -9.37302\n",
       "10.52295 -9.37255\n",
       "10.48933  -9.3574\n",
       "10.50134 -9.33888"
      ]
     },
     "execution_count": 16,
     "metadata": {},
     "output_type": "execute_result"
    }
   ],
   "source": [
    "udg_85_wfc['ra','dec']"
   ]
  },
  {
   "cell_type": "code",
   "execution_count": null,
   "metadata": {
    "collapsed": true
   },
   "outputs": [],
   "source": []
  },
  {
   "cell_type": "markdown",
   "metadata": {},
   "source": [
    "# Galfit automation\n",
    "\n",
    "\n",
    "Here we will build the *.feedme files using python for each image. First each cropped fits file will be analyzed using astropy to create a bad pixel mask. Then galfit is run on each image in turn and the results are entered into a table."
   ]
  },
  {
   "cell_type": "code",
   "execution_count": 59,
   "metadata": {
    "collapsed": true
   },
   "outputs": [],
   "source": [
    "# Create the feedme file. The feedme file looks like the following when complete:\n",
    "# ===============================================================================\n",
    "# # IMAGE and GALFIT CONTROL PARAMETERS\n",
    "# A) gal.fits            # Input data image (FITS file)\n",
    "# B) imgblock.fits       # Output data image block\n",
    "# C) none                # Sigma image name (made from data if blank or \"none\") \n",
    "# D) psf.fits   #        # Input PSF image and (optional) diffusion kernel\n",
    "# E) 1                   # PSF fine sampling factor relative to data \n",
    "# F) none                # Bad pixel mask (FITS image or ASCII coord list)\n",
    "# G) none                # File with parameter constraints (ASCII file) \n",
    "# H) 1    93   1    93   # Image region to fit (xmin xmax ymin ymax)\n",
    "# I) 100    100          # Size of the convolution box (x y)\n",
    "# J) 26.563              # Magnitude photometric zeropoint \n",
    "# K) 0.038  0.038        # Plate scale (dx dy)    [arcsec per pixel]\n",
    "# O) regular             # Display type (regular, curses, both)\n",
    "# P) 0                   # Choose: 0=optimize, 1=model, 2=imgblock, 3=subcomps\n",
    "\n",
    "# # Object number: 1\n",
    "#  0) sersic                 #  object type\n",
    "#  1) 48.5180  51.2800  1 1  #  position x, y\n",
    "#  3) 20.0890     1          #  Integrated magnitude\t\n",
    "#  4) 5.1160      1          #  R_e (half-light radius)   [pix]\n",
    "#  5) 4.2490      1          #  Sersic index n (de Vaucouleurs n=4) \n",
    "#  9) 0.7570      1          #  axis ratio (b/a)  \n",
    "# 10) -60.3690    1          #  position angle (PA) [deg: Up=0, Left=90]\n",
    "#  Z) 0                      #  output option (0 = resid., 1 = Don't subtract) \n",
    "# ================================================================================\n",
    "\n",
    "# Create an empty table with appropriate headers\n",
    "galfitResults = QTable(names = ('Image', \n",
    "                                'Effective Radius', \n",
    "                                'r_eff Err', \n",
    "                                'Sersic Index', \n",
    "                                'Sersic Err', \n",
    "                                'Axis Ratio', \n",
    "                                'Axis Err', \n",
    "                                'Position Angle', \n",
    "                                'Position Err'),\n",
    "                      dtype = ['U25', 'float', 'float','float', 'float', 'float', 'float', 'float', 'float'])"
   ]
  },
  {
   "cell_type": "code",
   "execution_count": 104,
   "metadata": {},
   "outputs": [],
   "source": [
    "# Take user input parameters and write a galfit feedme file. Use that file to run galfit on the image\n",
    "def runGalfit(\n",
    "    file_input, \n",
    "    file_output, \n",
    "    pixel_mask_image,  \n",
    "    sersic_index):\n",
    "    \n",
    "    # Remove old feedme file\n",
    "    if os.path.isfile('galfit.feedme'):\n",
    "        os.remove('galfit.feedme')\n",
    "    \n",
    "    # Create feedme file     \n",
    "    feed = open('galfit.feedme', 'w')\n",
    "\n",
    "    # Fitting parameters\n",
    "    A = 'A) ' + str(file_input)\n",
    "    B = 'B) ' + str(file_output)\n",
    "    C = 'C) none'\n",
    "    D = 'D) none'\n",
    "    E = 'E) 1'\n",
    "    F = 'F) ' + str(pixel_mask_image)\n",
    "    G = 'G) none'\n",
    "    H = 'H) 1 101 1 101'\n",
    "    I = 'I) 30 30'\n",
    "    J = 'J) 26.563'\n",
    "    K = 'K) 0.05 0.05'\n",
    "    O = 'O) regular'\n",
    "    P = 'P) 0'\n",
    "    \n",
    "    # Object parameters\n",
    "    profile = '0) sersic'\n",
    "    position = '1) 50 50  1 1'\n",
    "    int_mag = '3) 23.19  1'\n",
    "    r_eff = '4) 16   1'\n",
    "    sersic = '5) ' + str(sersic_index) + '   1'\n",
    "    axis = '9) 1   1'\n",
    "    pos_angle = '10) 0   1'\n",
    "    out_opt = 'Z) 0'\n",
    "    \n",
    "    feed.write(A + '\\n' + B + '\\n' + C + '\\n' + D + '\\n' + E + '\\n' + F + '\\n' + H + '\\n' + I + '\\n' + \n",
    "              J + '\\n' + K + '\\n' + O + '\\n' + P + '\\n\\n' + profile + '\\n' + position + '\\n' + int_mag + '\\n' + \n",
    "              r_eff + '\\n' + sersic + '\\n' + axis + '\\n' + pos_angle + '\\n' + out_opt)\n",
    "    feed.close()\n",
    "    \n",
    "    # Run galfit with feedme file\n",
    "    os.system('galfit galfit.feedme')\n",
    "    \n",
    "# Take a galfit output image and pull pertinent metrics from the headers. Then output as a list.\n",
    "def getMetrics(fileName):\n",
    "    hdulist = fits.open(fileName)\n",
    "    \n",
    "    imgName = hdulist[2].header['DATAIN']\n",
    "    r_eff, r_err = hdulist[2].header['1_RE'].split(' +/- ')\n",
    "    sersicIndex, sersicErr = hdulist[2].header['1_N'].split(' +/- ')\n",
    "    axisRatio, axisErr = hdulist[2].header['1_AR'].split(' +/- ')\n",
    "    positionAngle, positionErr = hdulist[2].header['1_PA'].split(' +/- ')\n",
    "    \n",
    "    results = [imgName, \n",
    "               r_eff, \n",
    "               r_err, \n",
    "               sersicIndex, \n",
    "               sersicErr, \n",
    "               axisRatio, \n",
    "               axisErr, \n",
    "               positionAngle, \n",
    "               positionErr]\n",
    "    return results\n",
    "\n",
    "def getPixelMask(path, input_file, output_file):\n",
    "    hdulist = fits.open(path + input_file)\n",
    "    pixData = hdulist[0].data\n",
    "    meanPix = pixData.mean()\n",
    "    pixData[pixData < (meanPix + 3 * pixData.std())] = 0\n",
    "    pixData[pixData > (meanPix + 3 * pixData.std())] = 1\n",
    "    mask_file = 'mask_' + input_file\n",
    "\n",
    "    if os.path.isfile(path + mask_file):\n",
    "        os.remove(path + mask_file)\n",
    "\n",
    "    hdulist.writeto(path + mask_file)\n",
    "    return mask_file"
   ]
  },
  {
   "cell_type": "code",
   "execution_count": null,
   "metadata": {},
   "outputs": [],
   "source": []
  },
  {
   "cell_type": "code",
   "execution_count": 105,
   "metadata": {},
   "outputs": [],
   "source": [
    "path = 'testing/'\n",
    "input_file = 'A85_1043.0_3319.0.fits'\n",
    "output_file = 'gal_' + input_file\n",
    "sersic = '.90'\n",
    "\n",
    "pixel_mask = getPixelMask(path, input_file, output_file)\n",
    "\n",
    "runGalfit(path + input_file, path + output_file, pixel_mask, sersic)\n",
    "galfitResults.add_row(getMetrics(path + output_file))"
   ]
  },
  {
   "cell_type": "code",
   "execution_count": 101,
   "metadata": {},
   "outputs": [
    {
     "data": {
      "text/plain": [
       "'mask_A85_1043.0_3319.0.fits'"
      ]
     },
     "execution_count": 101,
     "metadata": {},
     "output_type": "execute_result"
    }
   ],
   "source": [
    "pixel_mask"
   ]
  },
  {
   "cell_type": "code",
   "execution_count": 89,
   "metadata": {},
   "outputs": [],
   "source": []
  },
  {
   "cell_type": "code",
   "execution_count": 93,
   "metadata": {},
   "outputs": [],
   "source": []
  },
  {
   "cell_type": "code",
   "execution_count": 95,
   "metadata": {},
   "outputs": [],
   "source": []
  },
  {
   "cell_type": "code",
   "execution_count": 24,
   "metadata": {
    "collapsed": true
   },
   "outputs": [],
   "source": []
  },
  {
   "cell_type": "code",
   "execution_count": 25,
   "metadata": {},
   "outputs": [
    {
     "data": {
      "text/html": [
       "&lt;Table length=0&gt;\n",
       "<table id=\"table140351685697168\" class=\"table-striped table-bordered table-condensed\">\n",
       "<thead><tr><th>Image</th><th>Effective Radius</th><th>r_eff Err</th><th>Sersic Index</th><th>Sersic Err</th><th>Axis Ratio</th><th>Axis Err</th><th>Position Angle</th><th>Position Err</th></tr></thead>\n",
       "<thead><tr><th>unicode25</th><th>float64</th><th>float64</th><th>float64</th><th>float64</th><th>float64</th><th>float64</th><th>float64</th><th>float64</th></tr></thead>\n",
       "</table>"
      ],
      "text/plain": [
       "<Table length=0>\n",
       "  Image   Effective Radius r_eff Err ... Axis Err Position Angle Position Err\n",
       "unicode25     float64       float64  ... float64     float64       float64   \n",
       "--------- ---------------- --------- ... -------- -------------- ------------"
      ]
     },
     "execution_count": 25,
     "metadata": {},
     "output_type": "execute_result"
    }
   ],
   "source": [
    "# galfitResults.add_row(getMetrics('gal_A85_113.0_773.0.f.fits'))\n",
    "galfitResults"
   ]
  },
  {
   "cell_type": "code",
   "execution_count": null,
   "metadata": {
    "collapsed": true
   },
   "outputs": [],
   "source": []
  }
 ],
 "metadata": {
  "kernelspec": {
   "display_name": "Python 2",
   "language": "python",
   "name": "python2"
  },
  "language_info": {
   "codemirror_mode": {
    "name": "ipython",
    "version": 2
   },
   "file_extension": ".py",
   "mimetype": "text/x-python",
   "name": "python",
   "nbconvert_exporter": "python",
   "pygments_lexer": "ipython2",
   "version": "2.7.14"
  }
 },
 "nbformat": 4,
 "nbformat_minor": 2
}
